{
 "cells": [
  {
   "cell_type": "markdown",
   "id": "94572b56",
   "metadata": {},
   "source": [
    "# Os Silkers"
   ]
  },
  {
   "cell_type": "code",
   "execution_count": null,
   "id": "efbdb2d0",
   "metadata": {},
   "outputs": [],
   "source": [
    "from load_history import load_history\n",
    "from train import train\n",
    "from predict import predict\n",
    "import polars as pl"
   ]
  },
  {
   "cell_type": "code",
   "execution_count": null,
   "id": "9d368b0e",
   "metadata": {},
   "outputs": [],
   "source": [
    "df_pdvs = pl.read_parquet('CAMINHO/data/parquet/pdvs.parquet')\n",
    "df_produtos = pl.read_parquet('CAMINHO/parquet/produtos.parquet')\n",
    "df_vendas = pl.read_parquet('CAMINHO/parquet/vendas.parquet')"
   ]
  },
  {
   "cell_type": "code",
   "execution_count": 4,
   "id": "f9f0556a",
   "metadata": {},
   "outputs": [],
   "source": [
    "df = df_vendas.join(df_produtos, left_on='internal_product_id', right_on='produto')\n",
    "df = df.join(df_pdvs, left_on='internal_store_id', right_on='pdv')"
   ]
  },
  {
   "cell_type": "code",
   "execution_count": 5,
   "id": "4747bdb3",
   "metadata": {},
   "outputs": [
    {
     "data": {
      "text/plain": [
       "(shape: (6_205_747, 13)\n",
       " ┌─────────────┬─────────────┬────────────┬─────────────┬───┬─────────────┬────────────┬─────┬──────┐\n",
       " │ pdv         ┆ sku         ┆ semana     ┆ vendas_sema ┆ … ┆ desvio_padr ┆ semana_do_ ┆ mes ┆ ano  │\n",
       " │ ---         ┆ ---         ┆ ---        ┆ nais        ┆   ┆ ao_4_semana ┆ ano        ┆ --- ┆ ---  │\n",
       " │ str         ┆ str         ┆ date       ┆ ---         ┆   ┆ s           ┆ ---        ┆ i8  ┆ i32  │\n",
       " │             ┆             ┆            ┆ f64         ┆   ┆ ---         ┆ i8         ┆     ┆      │\n",
       " │             ┆             ┆            ┆             ┆   ┆ f64         ┆            ┆     ┆      │\n",
       " ╞═════════════╪═════════════╪════════════╪═════════════╪═══╪═════════════╪════════════╪═════╪══════╡\n",
       " │ 10002374870 ┆ 18374296073 ┆ 2022-02-07 ┆ 1.0         ┆ … ┆ null        ┆ 6          ┆ 2   ┆ 2022 │\n",
       " │ 41964405    ┆ 27399565    ┆            ┆             ┆   ┆             ┆            ┆     ┆      │\n",
       " │ 10002374870 ┆ 18374296073 ┆ 2022-02-14 ┆ 2.0         ┆ … ┆ null        ┆ 7          ┆ 2   ┆ 2022 │\n",
       " │ 41964405    ┆ 27399565    ┆            ┆             ┆   ┆             ┆            ┆     ┆      │\n",
       " │ 10002374870 ┆ 18374296073 ┆ 2022-05-23 ┆ 1.0         ┆ … ┆ null        ┆ 21         ┆ 5   ┆ 2022 │\n",
       " │ 41964405    ┆ 27399565    ┆            ┆             ┆   ┆             ┆            ┆     ┆      │\n",
       " │ 10002374870 ┆ 18374296073 ┆ 2022-06-20 ┆ 2.0         ┆ … ┆ null        ┆ 25         ┆ 6   ┆ 2022 │\n",
       " │ 41964405    ┆ 27399565    ┆            ┆             ┆   ┆             ┆            ┆     ┆      │\n",
       " │ 10002374870 ┆ 18374296073 ┆ 2022-07-11 ┆ 2.0         ┆ … ┆ 0.57735     ┆ 28         ┆ 7   ┆ 2022 │\n",
       " │ 41964405    ┆ 27399565    ┆            ┆             ┆   ┆             ┆            ┆     ┆      │\n",
       " │ …           ┆ …           ┆ …          ┆ …           ┆ … ┆ …           ┆ …          ┆ …   ┆ …    │\n",
       " │ 99790780011 ┆ 99754500503 ┆ 2022-03-07 ┆ 1.0         ┆ … ┆ null        ┆ 10         ┆ 3   ┆ 2022 │\n",
       " │ 1849739     ┆ 8320324     ┆            ┆             ┆   ┆             ┆            ┆     ┆      │\n",
       " │ 99790780011 ┆ 99754500503 ┆ 2022-03-21 ┆ 1.0         ┆ … ┆ null        ┆ 12         ┆ 3   ┆ 2022 │\n",
       " │ 1849739     ┆ 8320324     ┆            ┆             ┆   ┆             ┆            ┆     ┆      │\n",
       " │ 99790780011 ┆ 99754500503 ┆ 2022-06-27 ┆ 1.0         ┆ … ┆ null        ┆ 26         ┆ 6   ┆ 2022 │\n",
       " │ 1849739     ┆ 8320324     ┆            ┆             ┆   ┆             ┆            ┆     ┆      │\n",
       " │ 99790780011 ┆ 99754500503 ┆ 2022-07-11 ┆ 1.0         ┆ … ┆ 0.0         ┆ 28         ┆ 7   ┆ 2022 │\n",
       " │ 1849739     ┆ 8320324     ┆            ┆             ┆   ┆             ┆            ┆     ┆      │\n",
       " │ 99790780011 ┆ 99754500503 ┆ 2022-08-22 ┆ 1.0         ┆ … ┆ 0.0         ┆ 34         ┆ 8   ┆ 2022 │\n",
       " │ 1849739     ┆ 8320324     ┆            ┆             ┆   ┆             ┆            ┆     ┆      │\n",
       " └─────────────┴─────────────┴────────────┴─────────────┴───┴─────────────┴────────────┴─────┴──────┘,\n",
       " shape: (6_205_747, 13)\n",
       " ┌─────────────┬─────────────┬────────────┬─────────────┬───┬─────────────┬────────────┬─────┬──────┐\n",
       " │ pdv         ┆ sku         ┆ semana     ┆ vendas_sema ┆ … ┆ desvio_padr ┆ semana_do_ ┆ mes ┆ ano  │\n",
       " │ ---         ┆ ---         ┆ ---        ┆ nais        ┆   ┆ ao_4_semana ┆ ano        ┆ --- ┆ ---  │\n",
       " │ str         ┆ str         ┆ date       ┆ ---         ┆   ┆ s           ┆ ---        ┆ i8  ┆ i32  │\n",
       " │             ┆             ┆            ┆ f64         ┆   ┆ ---         ┆ i8         ┆     ┆      │\n",
       " │             ┆             ┆            ┆             ┆   ┆ f64         ┆            ┆     ┆      │\n",
       " ╞═════════════╪═════════════╪════════════╪═════════════╪═══╪═════════════╪════════════╪═════╪══════╡\n",
       " │ 10002374870 ┆ 18374296073 ┆ 2022-02-07 ┆ 1.0         ┆ … ┆ null        ┆ 6          ┆ 2   ┆ 2022 │\n",
       " │ 41964405    ┆ 27399565    ┆            ┆             ┆   ┆             ┆            ┆     ┆      │\n",
       " │ 10002374870 ┆ 18374296073 ┆ 2022-02-14 ┆ 2.0         ┆ … ┆ null        ┆ 7          ┆ 2   ┆ 2022 │\n",
       " │ 41964405    ┆ 27399565    ┆            ┆             ┆   ┆             ┆            ┆     ┆      │\n",
       " │ 10002374870 ┆ 18374296073 ┆ 2022-05-23 ┆ 1.0         ┆ … ┆ null        ┆ 21         ┆ 5   ┆ 2022 │\n",
       " │ 41964405    ┆ 27399565    ┆            ┆             ┆   ┆             ┆            ┆     ┆      │\n",
       " │ 10002374870 ┆ 18374296073 ┆ 2022-06-20 ┆ 2.0         ┆ … ┆ null        ┆ 25         ┆ 6   ┆ 2022 │\n",
       " │ 41964405    ┆ 27399565    ┆            ┆             ┆   ┆             ┆            ┆     ┆      │\n",
       " │ 10002374870 ┆ 18374296073 ┆ 2022-07-11 ┆ 2.0         ┆ … ┆ 0.57735     ┆ 28         ┆ 7   ┆ 2022 │\n",
       " │ 41964405    ┆ 27399565    ┆            ┆             ┆   ┆             ┆            ┆     ┆      │\n",
       " │ …           ┆ …           ┆ …          ┆ …           ┆ … ┆ …           ┆ …          ┆ …   ┆ …    │\n",
       " │ 99790780011 ┆ 99754500503 ┆ 2022-03-07 ┆ 1.0         ┆ … ┆ null        ┆ 10         ┆ 3   ┆ 2022 │\n",
       " │ 1849739     ┆ 8320324     ┆            ┆             ┆   ┆             ┆            ┆     ┆      │\n",
       " │ 99790780011 ┆ 99754500503 ┆ 2022-03-21 ┆ 1.0         ┆ … ┆ null        ┆ 12         ┆ 3   ┆ 2022 │\n",
       " │ 1849739     ┆ 8320324     ┆            ┆             ┆   ┆             ┆            ┆     ┆      │\n",
       " │ 99790780011 ┆ 99754500503 ┆ 2022-06-27 ┆ 1.0         ┆ … ┆ null        ┆ 26         ┆ 6   ┆ 2022 │\n",
       " │ 1849739     ┆ 8320324     ┆            ┆             ┆   ┆             ┆            ┆     ┆      │\n",
       " │ 99790780011 ┆ 99754500503 ┆ 2022-07-11 ┆ 1.0         ┆ … ┆ 0.0         ┆ 28         ┆ 7   ┆ 2022 │\n",
       " │ 1849739     ┆ 8320324     ┆            ┆             ┆   ┆             ┆            ┆     ┆      │\n",
       " │ 99790780011 ┆ 99754500503 ┆ 2022-08-22 ┆ 1.0         ┆ … ┆ 0.0         ┆ 34         ┆ 8   ┆ 2022 │\n",
       " │ 1849739     ┆ 8320324     ┆            ┆             ┆   ┆             ┆            ┆     ┆      │\n",
       " └─────────────┴─────────────┴────────────┴─────────────┴───┴─────────────┴────────────┴─────┴──────┘)"
      ]
     },
     "execution_count": 5,
     "metadata": {},
     "output_type": "execute_result"
    }
   ],
   "source": [
    "df, original_df = load_history(df)\n",
    "df, original_df"
   ]
  },
  {
   "cell_type": "code",
   "execution_count": 6,
   "id": "ba8005e9",
   "metadata": {},
   "outputs": [
    {
     "data": {
      "image/png": "[encoded data removed]",
      "text/plain": [
       "<Figure size 640x480 with 1 Axes>"
      ]
     },
     "metadata": {},
     "output_type": "display_data"
    }
   ],
   "source": [
    "import matplotlib.pyplot as plt\n",
    "\n",
    "plt.hist(df.to_pandas()['vendas_semanais'].to_numpy(), range=[0, 10])\n",
    "plt.show()"
   ]
  },
  {
   "cell_type": "code",
   "execution_count": 8,
   "id": "82d460bc",
   "metadata": {},
   "outputs": [
    {
     "name": "stdout",
     "output_type": "stream",
     "text": [
      "         vendas_lag_1  vendas_lag_2  vendas_lag_3  vendas_lag_4  \\\n",
      "0                 0.0           0.0           0.0           0.0   \n",
      "1                 1.0           0.0           0.0           0.0   \n",
      "2                 2.0           1.0           0.0           0.0   \n",
      "3                 1.0           2.0           1.0           0.0   \n",
      "4                 2.0           1.0           2.0           1.0   \n",
      "...               ...           ...           ...           ...   \n",
      "6205742           1.0           0.0           0.0           0.0   \n",
      "6205743           1.0           1.0           0.0           0.0   \n",
      "6205744           1.0           1.0           1.0           0.0   \n",
      "6205745           1.0           1.0           1.0           1.0   \n",
      "6205746           1.0           1.0           1.0           1.0   \n",
      "\n",
      "         media_movel_4_semanas  desvio_padrao_4_semanas  semana_do_ano  mes  \\\n",
      "0                          0.0                  0.00000              6    2   \n",
      "1                          0.0                  0.00000              7    2   \n",
      "2                          0.0                  0.00000             21    5   \n",
      "3                          0.0                  0.00000             25    6   \n",
      "4                          1.5                  0.57735             28    7   \n",
      "...                        ...                      ...            ...  ...   \n",
      "6205742                    0.0                  0.00000             10    3   \n",
      "6205743                    0.0                  0.00000             12    3   \n",
      "6205744                    0.0                  0.00000             26    6   \n",
      "6205745                    1.0                  0.00000             28    7   \n",
      "6205746                    1.0                  0.00000             34    8   \n",
      "\n",
      "          ano  pdv_encoded  sku_encoded  \n",
      "0        2022            0            1  \n",
      "1        2022            0            1  \n",
      "2        2022            0            1  \n",
      "3        2022            0            1  \n",
      "4        2022            0            1  \n",
      "...       ...          ...          ...  \n",
      "6205742  2022        21488         4312  \n",
      "6205743  2022        21488         4312  \n",
      "6205744  2022        21488         4312  \n",
      "6205745  2022        21488         4312  \n",
      "6205746  2022        21488         4312  \n",
      "\n",
      "[6205747 rows x 11 columns] 0          1.0\n",
      "1          2.0\n",
      "2          1.0\n",
      "3          2.0\n",
      "4          2.0\n",
      "          ... \n",
      "6205742    1.0\n",
      "6205743    1.0\n",
      "6205744    1.0\n",
      "6205745    1.0\n",
      "6205746    1.0\n",
      "Name: vendas_semanais, Length: 6205747, dtype: float64\n",
      "[LightGBM] [Info] Auto-choosing row-wise multi-threading, the overhead of testing was 0.024797 seconds.\n",
      "You can set `force_row_wise=true` to remove the overhead.\n",
      "And if memory is not enough, you can set `force_col_wise=true`.\n",
      "[LightGBM] [Info] Total Bins 13411\n",
      "[LightGBM] [Info] Number of data points in the train set: 5594328, number of used features: 11\n",
      "[LightGBM] [Info] Start training from score 2.000000\n",
      "Training until validation scores don't improve for 100 rounds\n",
      "Did not meet early stopping. Best iteration is:\n",
      "[991]\tvalid_0's l1: 2.20686\tvalid_0's wmape: 0.424547\n"
     ]
    }
   ],
   "source": [
    "model = train(df)"
   ]
  },
  {
   "cell_type": "code",
   "execution_count": null,
   "id": "da547c45",
   "metadata": {},
   "outputs": [],
   "source": [
    "predictions = predict(1, 1, 2023, model, df, '.')"
   ]
  },
  {
   "cell_type": "code",
   "execution_count": 10,
   "id": "ae7a739d",
   "metadata": {},
   "outputs": [],
   "source": [
    "predictions = predictions.astype('int')"
   ]
  },
  {
   "cell_type": "code",
   "execution_count": 11,
   "id": "e08f4d5d",
   "metadata": {},
   "outputs": [
    {
     "data": {
      "application/vnd.microsoft.datawrangler.viewer.v0+json": {
       "columns": [
        {
         "name": "index",
         "rawType": "int64",
         "type": "integer"
        },
        {
         "name": "semana",
         "rawType": "int64",
         "type": "integer"
        },
        {
         "name": "pdv",
         "rawType": "int64",
         "type": "integer"
        },
        {
         "name": "produto",
         "rawType": "int64",
         "type": "integer"
        },
        {
         "name": "quantidade",
         "rawType": "int64",
         "type": "integer"
        }
       ],
       "ref": "adfe1c24-eae7-4f1b-9fd3-07984fa81175",
       "rows": [
        [
         "1018706",
         "1",
         "6715102889362241882",
         "4623814317972718932",
         "1"
        ],
        [
         "934234",
         "1",
         "6211011473805988126",
         "7171661338468656007",
         "1"
        ],
        [
         "1079393",
         "1",
         "7059328007645110932",
         "6562521907333808722",
         "1"
        ],
        [
         "934208",
         "1",
         "6211011473805988126",
         "3748306923636527674",
         "1"
        ],
        [
         "934261",
         "1",
         "6211473009596393179",
         "1152772499033912340",
         "1"
        ],
        [
         "1095388",
         "1",
         "7169317109139237825",
         "289143327884191523",
         "1"
        ],
        [
         "934273",
         "1",
         "6211473009596393179",
         "347520348779130794",
         "1"
        ],
        [
         "1079382",
         "1",
         "7059328007645110932",
         "6511229972164125826",
         "0"
        ],
        [
         "905087",
         "1",
         "6054435098718724166",
         "2871461169461527775",
         "2"
        ],
        [
         "934256",
         "1",
         "6211011473805988126",
         "9036639434778896273",
         "2"
        ],
        [
         "934260",
         "1",
         "6211473009596393179",
         "1059747325968064355",
         "4"
        ],
        [
         "933897",
         "1",
         "6207885663188376832",
         "1441611406423199764",
         "2"
        ],
        [
         "1079384",
         "1",
         "7059328007645110932",
         "6524043896097491754",
         "1"
        ],
        [
         "1018692",
         "1",
         "6715102889362241882",
         "4303800370307860749",
         "1"
        ],
        [
         "933885",
         "1",
         "6207885663188376832",
         "1029370090212151375",
         "1"
        ],
        [
         "933846",
         "1",
         "6205723410736861336",
         "8728662573224341894",
         "5"
        ],
        [
         "1079642",
         "1",
         "7062863875743890785",
         "1009179103632945474",
         "3"
        ],
        [
         "1079361",
         "1",
         "7059328007645110932",
         "6040677600408757429",
         "1"
        ],
        [
         "934278",
         "1",
         "6211473009596393179",
         "4623814317972718932",
         "1"
        ],
        [
         "1018700",
         "1",
         "6715102889362241882",
         "4500561597898984528",
         "1"
        ],
        [
         "1079620",
         "1",
         "7061689798752621890",
         "7137887040550752258",
         "22"
        ],
        [
         "1079665",
         "1",
         "7062863875743890785",
         "1454838625590783593",
         "5"
        ],
        [
         "933878",
         "1",
         "620740142682714034",
         "5759670436535233385",
         "1"
        ],
        [
         "1079623",
         "1",
         "7061689798752621890",
         "787986481954269703",
         "1"
        ],
        [
         "1079622",
         "1",
         "7061689798752621890",
         "7804040098826393459",
         "2"
        ],
        [
         "1079381",
         "1",
         "7059328007645110932",
         "6494775682564602995",
         "1"
        ],
        [
         "1036993",
         "1",
         "6814067270737251416",
         "6509066495341489493",
         "1"
        ],
        [
         "934259",
         "1",
         "6211473009596393179",
         "1029370090212151375",
         "6"
        ],
        [
         "1079632",
         "1",
         "7062132949601087478",
         "3262679882836704514",
         "1"
        ],
        [
         "1079365",
         "1",
         "7059328007645110932",
         "6174389830336251122",
         "1"
        ],
        [
         "934258",
         "1",
         "6211011473805988126",
         "977091058156188070",
         "1"
        ],
        [
         "934272",
         "1",
         "6211473009596393179",
         "3262679882836704514",
         "1"
        ],
        [
         "1079621",
         "1",
         "7061689798752621890",
         "7661072747974842513",
         "1"
        ],
        [
         "1079394",
         "1",
         "7059328007645110932",
         "6579524112945142189",
         "1"
        ],
        [
         "1095393",
         "1",
         "7169317109139237825",
         "3296190571592820453",
         "1"
        ],
        [
         "934246",
         "1",
         "6211011473805988126",
         "8174625658473329985",
         "1"
        ],
        [
         "934207",
         "1",
         "6211011473805988126",
         "3620674245436818138",
         "4"
        ],
        [
         "933877",
         "1",
         "620740142682714034",
         "3143677808758291483",
         "1"
        ],
        [
         "1079360",
         "1",
         "7059328007645110932",
         "6016237275476853049",
         "2"
        ],
        [
         "933879",
         "1",
         "620740142682714034",
         "6311761748909165835",
         "1"
        ],
        [
         "934276",
         "1",
         "6211473009596393179",
         "4530186110164364869",
         "4"
        ],
        [
         "934275",
         "1",
         "6211473009596393179",
         "4353552881410365573",
         "1"
        ],
        [
         "933883",
         "1",
         "6207885663188376832",
         "1009179103632945474",
         "2"
        ],
        [
         "905091",
         "1",
         "6054435098718724166",
         "3070152888604435583",
         "1"
        ],
        [
         "1018727",
         "1",
         "6715102889362241882",
         "5517144173318191727",
         "1"
        ],
        [
         "934250",
         "1",
         "6211011473805988126",
         "8382158958992673929",
         "1"
        ],
        [
         "1095389",
         "1",
         "7169317109139237825",
         "2936801617716449642",
         "5"
        ],
        [
         "1079366",
         "1",
         "7059328007645110932",
         "6202919738007667637",
         "1"
        ],
        [
         "1095386",
         "1",
         "7169317109139237825",
         "2780457786232492237",
         "1"
        ],
        [
         "1095390",
         "1",
         "7169317109139237825",
         "2995245061726159069",
         "1"
        ]
       ],
       "shape": {
        "columns": 4,
        "rows": 5162820
       }
      },
      "text/html": [
       "<div>\n",
       "<style scoped>\n",
       "    .dataframe tbody tr th:only-of-type {\n",
       "        vertical-align: middle;\n",
       "    }\n",
       "\n",
       "    .dataframe tbody tr th {\n",
       "        vertical-align: top;\n",
       "    }\n",
       "\n",
       "    .dataframe thead th {\n",
       "        text-align: right;\n",
       "    }\n",
       "</style>\n",
       "<table border=\"1\" class=\"dataframe\">\n",
       "  <thead>\n",
       "    <tr style=\"text-align: right;\">\n",
       "      <th></th>\n",
       "      <th>semana</th>\n",
       "      <th>pdv</th>\n",
       "      <th>produto</th>\n",
       "      <th>quantidade</th>\n",
       "    </tr>\n",
       "  </thead>\n",
       "  <tbody>\n",
       "    <tr>\n",
       "      <th>1018706</th>\n",
       "      <td>1</td>\n",
       "      <td>6715102889362241882</td>\n",
       "      <td>4623814317972718932</td>\n",
       "      <td>1</td>\n",
       "    </tr>\n",
       "    <tr>\n",
       "      <th>934234</th>\n",
       "      <td>1</td>\n",
       "      <td>6211011473805988126</td>\n",
       "      <td>7171661338468656007</td>\n",
       "      <td>1</td>\n",
       "    </tr>\n",
       "    <tr>\n",
       "      <th>1079393</th>\n",
       "      <td>1</td>\n",
       "      <td>7059328007645110932</td>\n",
       "      <td>6562521907333808722</td>\n",
       "      <td>1</td>\n",
       "    </tr>\n",
       "    <tr>\n",
       "      <th>934208</th>\n",
       "      <td>1</td>\n",
       "      <td>6211011473805988126</td>\n",
       "      <td>3748306923636527674</td>\n",
       "      <td>1</td>\n",
       "    </tr>\n",
       "    <tr>\n",
       "      <th>934261</th>\n",
       "      <td>1</td>\n",
       "      <td>6211473009596393179</td>\n",
       "      <td>1152772499033912340</td>\n",
       "      <td>1</td>\n",
       "    </tr>\n",
       "    <tr>\n",
       "      <th>...</th>\n",
       "      <td>...</td>\n",
       "      <td>...</td>\n",
       "      <td>...</td>\n",
       "      <td>...</td>\n",
       "    </tr>\n",
       "    <tr>\n",
       "      <th>2810509</th>\n",
       "      <td>5</td>\n",
       "      <td>5445993542050040998</td>\n",
       "      <td>210620217243421376</td>\n",
       "      <td>3</td>\n",
       "    </tr>\n",
       "    <tr>\n",
       "      <th>2810504</th>\n",
       "      <td>5</td>\n",
       "      <td>5445993542050040998</td>\n",
       "      <td>2092400019416897759</td>\n",
       "      <td>3</td>\n",
       "    </tr>\n",
       "    <tr>\n",
       "      <th>2810499</th>\n",
       "      <td>5</td>\n",
       "      <td>5445993542050040998</td>\n",
       "      <td>200407080435025895</td>\n",
       "      <td>4</td>\n",
       "    </tr>\n",
       "    <tr>\n",
       "      <th>2810551</th>\n",
       "      <td>5</td>\n",
       "      <td>5445993542050040998</td>\n",
       "      <td>2744506899428303850</td>\n",
       "      <td>1</td>\n",
       "    </tr>\n",
       "    <tr>\n",
       "      <th>5271603</th>\n",
       "      <td>5</td>\n",
       "      <td>997907800111849739</td>\n",
       "      <td>997545005038320324</td>\n",
       "      <td>2</td>\n",
       "    </tr>\n",
       "  </tbody>\n",
       "</table>\n",
       "<p>5162820 rows × 4 columns</p>\n",
       "</div>"
      ],
      "text/plain": [
       "         semana                  pdv              produto  quantidade\n",
       "1018706       1  6715102889362241882  4623814317972718932           1\n",
       "934234        1  6211011473805988126  7171661338468656007           1\n",
       "1079393       1  7059328007645110932  6562521907333808722           1\n",
       "934208        1  6211011473805988126  3748306923636527674           1\n",
       "934261        1  6211473009596393179  1152772499033912340           1\n",
       "...         ...                  ...                  ...         ...\n",
       "2810509       5  5445993542050040998   210620217243421376           3\n",
       "2810504       5  5445993542050040998  2092400019416897759           3\n",
       "2810499       5  5445993542050040998   200407080435025895           4\n",
       "2810551       5  5445993542050040998  2744506899428303850           1\n",
       "5271603       5   997907800111849739   997545005038320324           2\n",
       "\n",
       "[5162820 rows x 4 columns]"
      ]
     },
     "execution_count": 11,
     "metadata": {},
     "output_type": "execute_result"
    }
   ],
   "source": [
    "predictions"
   ]
  },
  {
   "cell_type": "code",
   "execution_count": 12,
   "id": "a9f98fb3",
   "metadata": {},
   "outputs": [
    {
     "data": {
      "image/png": "[encoded data removed]",
      "text/plain": [
       "<Figure size 640x480 with 2 Axes>"
      ]
     },
     "metadata": {},
     "output_type": "display_data"
    }
   ],
   "source": [
    "import matplotlib.pyplot as plt\n",
    "\n",
    "\n",
    "dataset_qts = df.to_pandas()['vendas_semanais'].to_numpy()\n",
    "predicted_qts = predictions['quantidade'].to_numpy()\n",
    "\n",
    "axes = plt.subplot(1, 2, 1)\n",
    "axes.hist(dataset_qts, range=[0, 10])\n",
    "limit = [0, 5e6]\n",
    "#axes.set_xlim(limit)\n",
    "axes2 = plt.subplot(1, 2, 2)\n",
    "#axes2.set_xlim()\n",
    "axes2.hist(predicted_qts, range=[0, 10])\n",
    "plt.show()"
   ]
  },
  {
   "cell_type": "code",
   "execution_count": null,
   "id": "57001ef8",
   "metadata": {},
   "outputs": [],
   "source": [
    "predictions.to_parquet('../saved/saved_pred.parquet')"
   ]
  }
 ],
 "metadata": {
  "kernelspec": {
   "display_name": "modeling_venv",
   "language": "python",
   "name": "python3"
  },
  "language_info": {
   "codemirror_mode": {
    "name": "ipython",
    "version": 3
   },
   "file_extension": ".py",
   "mimetype": "text/x-python",
   "name": "python",
   "nbconvert_exporter": "python",
   "pygments_lexer": "ipython3",
   "version": "3.12.3"
  }
 },
 "nbformat": 4,
 "nbformat_minor": 5
}
