{
 "cells": [
  {
   "cell_type": "markdown",
   "id": "94572b56",
   "metadata": {},
   "source": [
    "# Os Silkers"
   ]
  },
  {
   "cell_type": "code",
   "execution_count": null,
   "id": "efbdb2d0",
   "metadata": {},
   "outputs": [],
   "source": [
    "from load_history import load_history\n",
    "from train import train\n",
    "from predict import predict"
   ]
  },
  {
   "cell_type": "code",
   "execution_count": null,
   "id": "4747bdb3",
   "metadata": {},
   "outputs": [],
   "source": [
    "df, original_df = load_history('/home/guilherme/code/python/OsSilkers/data/parquet')\n",
    "df"
   ]
  },
  {
   "cell_type": "code",
   "execution_count": null,
   "id": "82d460bc",
   "metadata": {},
   "outputs": [],
   "source": [
    "model = train(df)"
   ]
  },
  {
   "cell_type": "code",
   "execution_count": null,
   "id": "da547c45",
   "metadata": {},
   "outputs": [],
   "source": [
    "predictions = predict(1, 1, 2023, model, '.')"
   ]
  },
  {
   "cell_type": "code",
   "execution_count": null,
   "id": "57001ef8",
   "metadata": {},
   "outputs": [],
   "source": [
    "predictions.to_parquet('../saved/first_pred.parquet')"
   ]
  }
 ],
 "metadata": {
  "kernelspec": {
   "display_name": "modeling_venv",
   "language": "python",
   "name": "python3"
  },
  "language_info": {
   "codemirror_mode": {
    "name": "ipython",
    "version": 3
   },
   "file_extension": ".py",
   "mimetype": "text/x-python",
   "name": "python",
   "nbconvert_exporter": "python",
   "pygments_lexer": "ipython3",
   "version": "3.12.3"
  }
 },
 "nbformat": 4,
 "nbformat_minor": 5
}
