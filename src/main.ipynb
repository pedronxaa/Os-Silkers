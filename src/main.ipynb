{
 "cells": [
  {
   "cell_type": "markdown",
   "id": "94572b56",
   "metadata": {},
   "source": [
    "# Os Silkers"
   ]
  },
  {
   "cell_type": "code",
   "execution_count": 1,
   "id": "efbdb2d0",
   "metadata": {},
   "outputs": [],
   "source": [
    "from load_history import load_history\n",
    "from train import train\n",
    "from predict import predict\n",
    "import polars as pl"
   ]
  },
  {
   "cell_type": "code",
   "execution_count": 2,
   "id": "9d368b0e",
   "metadata": {},
   "outputs": [],
   "source": [
    "df_pdvs = pl.read_parquet('/home/guilherme/code/python/OsSilkers/data/parquet/pdvs.parquet')\n",
    "df_produtos = pl.read_parquet('/home/guilherme/code/python/OsSilkers/data/parquet/produtos.parquet')\n",
    "df_vendas = pl.read_parquet('/home/guilherme/code/python/OsSilkers/data/parquet/vendas.parquet')"
   ]
  },
  {
   "cell_type": "code",
   "execution_count": 3,
   "id": "f9f0556a",
   "metadata": {},
   "outputs": [],
   "source": [
    "df = df_vendas.join(df_produtos, left_on='internal_product_id', right_on='produto')\n",
    "df = df.join(df_pdvs, left_on='internal_store_id', right_on='pdv')\n",
    "\n",
    "original_df = df"
   ]
  },
  {
   "cell_type": "code",
   "execution_count": 4,
   "id": "4747bdb3",
   "metadata": {},
   "outputs": [
    {
     "data": {
      "text/plain": [
       "(shape: (6_205_747, 13)\n",
       " ┌─────────────┬─────────────┬────────────┬─────────────┬───┬─────────────┬────────────┬─────┬──────┐\n",
       " │ pdv         ┆ sku         ┆ semana     ┆ vendas_sema ┆ … ┆ desvio_padr ┆ semana_do_ ┆ mes ┆ ano  │\n",
       " │ ---         ┆ ---         ┆ ---        ┆ nais        ┆   ┆ ao_4_semana ┆ ano        ┆ --- ┆ ---  │\n",
       " │ str         ┆ str         ┆ date       ┆ ---         ┆   ┆ s           ┆ ---        ┆ i8  ┆ i32  │\n",
       " │             ┆             ┆            ┆ f64         ┆   ┆ ---         ┆ i8         ┆     ┆      │\n",
       " │             ┆             ┆            ┆             ┆   ┆ f64         ┆            ┆     ┆      │\n",
       " ╞═════════════╪═════════════╪════════════╪═════════════╪═══╪═════════════╪════════════╪═════╪══════╡\n",
       " │ 10002374870 ┆ 18374296073 ┆ 2022-02-07 ┆ 1.0         ┆ … ┆ null        ┆ 6          ┆ 2   ┆ 2022 │\n",
       " │ 41964405    ┆ 27399565    ┆            ┆             ┆   ┆             ┆            ┆     ┆      │\n",
       " │ 10002374870 ┆ 18374296073 ┆ 2022-02-14 ┆ 2.0         ┆ … ┆ null        ┆ 7          ┆ 2   ┆ 2022 │\n",
       " │ 41964405    ┆ 27399565    ┆            ┆             ┆   ┆             ┆            ┆     ┆      │\n",
       " │ 10002374870 ┆ 18374296073 ┆ 2022-05-23 ┆ 1.0         ┆ … ┆ null        ┆ 21         ┆ 5   ┆ 2022 │\n",
       " │ 41964405    ┆ 27399565    ┆            ┆             ┆   ┆             ┆            ┆     ┆      │\n",
       " │ 10002374870 ┆ 18374296073 ┆ 2022-06-20 ┆ 2.0         ┆ … ┆ null        ┆ 25         ┆ 6   ┆ 2022 │\n",
       " │ 41964405    ┆ 27399565    ┆            ┆             ┆   ┆             ┆            ┆     ┆      │\n",
       " │ 10002374870 ┆ 18374296073 ┆ 2022-07-11 ┆ 2.0         ┆ … ┆ 0.57735     ┆ 28         ┆ 7   ┆ 2022 │\n",
       " │ 41964405    ┆ 27399565    ┆            ┆             ┆   ┆             ┆            ┆     ┆      │\n",
       " │ …           ┆ …           ┆ …          ┆ …           ┆ … ┆ …           ┆ …          ┆ …   ┆ …    │\n",
       " │ 99790780011 ┆ 99754500503 ┆ 2022-03-07 ┆ 1.0         ┆ … ┆ null        ┆ 10         ┆ 3   ┆ 2022 │\n",
       " │ 1849739     ┆ 8320324     ┆            ┆             ┆   ┆             ┆            ┆     ┆      │\n",
       " │ 99790780011 ┆ 99754500503 ┆ 2022-03-21 ┆ 1.0         ┆ … ┆ null        ┆ 12         ┆ 3   ┆ 2022 │\n",
       " │ 1849739     ┆ 8320324     ┆            ┆             ┆   ┆             ┆            ┆     ┆      │\n",
       " │ 99790780011 ┆ 99754500503 ┆ 2022-06-27 ┆ 1.0         ┆ … ┆ null        ┆ 26         ┆ 6   ┆ 2022 │\n",
       " │ 1849739     ┆ 8320324     ┆            ┆             ┆   ┆             ┆            ┆     ┆      │\n",
       " │ 99790780011 ┆ 99754500503 ┆ 2022-07-11 ┆ 1.0         ┆ … ┆ 0.0         ┆ 28         ┆ 7   ┆ 2022 │\n",
       " │ 1849739     ┆ 8320324     ┆            ┆             ┆   ┆             ┆            ┆     ┆      │\n",
       " │ 99790780011 ┆ 99754500503 ┆ 2022-08-22 ┆ 1.0         ┆ … ┆ 0.0         ┆ 34         ┆ 8   ┆ 2022 │\n",
       " │ 1849739     ┆ 8320324     ┆            ┆             ┆   ┆             ┆            ┆     ┆      │\n",
       " └─────────────┴─────────────┴────────────┴─────────────┴───┴─────────────┴────────────┴─────┴──────┘,\n",
       " shape: (6_205_747, 13)\n",
       " ┌─────────────┬─────────────┬────────────┬─────────────┬───┬─────────────┬────────────┬─────┬──────┐\n",
       " │ pdv         ┆ sku         ┆ semana     ┆ vendas_sema ┆ … ┆ desvio_padr ┆ semana_do_ ┆ mes ┆ ano  │\n",
       " │ ---         ┆ ---         ┆ ---        ┆ nais        ┆   ┆ ao_4_semana ┆ ano        ┆ --- ┆ ---  │\n",
       " │ str         ┆ str         ┆ date       ┆ ---         ┆   ┆ s           ┆ ---        ┆ i8  ┆ i32  │\n",
       " │             ┆             ┆            ┆ f64         ┆   ┆ ---         ┆ i8         ┆     ┆      │\n",
       " │             ┆             ┆            ┆             ┆   ┆ f64         ┆            ┆     ┆      │\n",
       " ╞═════════════╪═════════════╪════════════╪═════════════╪═══╪═════════════╪════════════╪═════╪══════╡\n",
       " │ 10002374870 ┆ 18374296073 ┆ 2022-02-07 ┆ 1.0         ┆ … ┆ null        ┆ 6          ┆ 2   ┆ 2022 │\n",
       " │ 41964405    ┆ 27399565    ┆            ┆             ┆   ┆             ┆            ┆     ┆      │\n",
       " │ 10002374870 ┆ 18374296073 ┆ 2022-02-14 ┆ 2.0         ┆ … ┆ null        ┆ 7          ┆ 2   ┆ 2022 │\n",
       " │ 41964405    ┆ 27399565    ┆            ┆             ┆   ┆             ┆            ┆     ┆      │\n",
       " │ 10002374870 ┆ 18374296073 ┆ 2022-05-23 ┆ 1.0         ┆ … ┆ null        ┆ 21         ┆ 5   ┆ 2022 │\n",
       " │ 41964405    ┆ 27399565    ┆            ┆             ┆   ┆             ┆            ┆     ┆      │\n",
       " │ 10002374870 ┆ 18374296073 ┆ 2022-06-20 ┆ 2.0         ┆ … ┆ null        ┆ 25         ┆ 6   ┆ 2022 │\n",
       " │ 41964405    ┆ 27399565    ┆            ┆             ┆   ┆             ┆            ┆     ┆      │\n",
       " │ 10002374870 ┆ 18374296073 ┆ 2022-07-11 ┆ 2.0         ┆ … ┆ 0.57735     ┆ 28         ┆ 7   ┆ 2022 │\n",
       " │ 41964405    ┆ 27399565    ┆            ┆             ┆   ┆             ┆            ┆     ┆      │\n",
       " │ …           ┆ …           ┆ …          ┆ …           ┆ … ┆ …           ┆ …          ┆ …   ┆ …    │\n",
       " │ 99790780011 ┆ 99754500503 ┆ 2022-03-07 ┆ 1.0         ┆ … ┆ null        ┆ 10         ┆ 3   ┆ 2022 │\n",
       " │ 1849739     ┆ 8320324     ┆            ┆             ┆   ┆             ┆            ┆     ┆      │\n",
       " │ 99790780011 ┆ 99754500503 ┆ 2022-03-21 ┆ 1.0         ┆ … ┆ null        ┆ 12         ┆ 3   ┆ 2022 │\n",
       " │ 1849739     ┆ 8320324     ┆            ┆             ┆   ┆             ┆            ┆     ┆      │\n",
       " │ 99790780011 ┆ 99754500503 ┆ 2022-06-27 ┆ 1.0         ┆ … ┆ null        ┆ 26         ┆ 6   ┆ 2022 │\n",
       " │ 1849739     ┆ 8320324     ┆            ┆             ┆   ┆             ┆            ┆     ┆      │\n",
       " │ 99790780011 ┆ 99754500503 ┆ 2022-07-11 ┆ 1.0         ┆ … ┆ 0.0         ┆ 28         ┆ 7   ┆ 2022 │\n",
       " │ 1849739     ┆ 8320324     ┆            ┆             ┆   ┆             ┆            ┆     ┆      │\n",
       " │ 99790780011 ┆ 99754500503 ┆ 2022-08-22 ┆ 1.0         ┆ … ┆ 0.0         ┆ 34         ┆ 8   ┆ 2022 │\n",
       " │ 1849739     ┆ 8320324     ┆            ┆             ┆   ┆             ┆            ┆     ┆      │\n",
       " └─────────────┴─────────────┴────────────┴─────────────┴───┴─────────────┴────────────┴─────┴──────┘)"
      ]
     },
     "execution_count": 4,
     "metadata": {},
     "output_type": "execute_result"
    }
   ],
   "source": [
    "df, _ = load_history(df)\n",
    "df, _"
   ]
  },
  {
   "cell_type": "code",
   "execution_count": 5,
   "id": "ba8005e9",
   "metadata": {},
   "outputs": [
    {
     "data": {
      "image/png": "[encoded data removed]",
      "text/plain": [
       "<Figure size 640x480 with 1 Axes>"
      ]
     },
     "metadata": {},
     "output_type": "display_data"
    }
   ],
   "source": [
    "import matplotlib.pyplot as plt\n",
    "\n",
    "plt.hist(df.to_pandas()['vendas_semanais'].to_numpy(), range=[0, 10])\n",
    "plt.show()"
   ]
  },
  {
   "cell_type": "code",
   "execution_count": 6,
   "id": "82d460bc",
   "metadata": {},
   "outputs": [
    {
     "name": "stdout",
     "output_type": "stream",
     "text": [
      "         vendas_lag_1  vendas_lag_2  vendas_lag_3  vendas_lag_4  \\\n",
      "0                 0.0           0.0           0.0           0.0   \n",
      "1                 1.0           0.0           0.0           0.0   \n",
      "2                 2.0           1.0           0.0           0.0   \n",
      "3                 1.0           2.0           1.0           0.0   \n",
      "4                 2.0           1.0           2.0           1.0   \n",
      "...               ...           ...           ...           ...   \n",
      "6205742           1.0           0.0           0.0           0.0   \n",
      "6205743           1.0           1.0           0.0           0.0   \n",
      "6205744           1.0           1.0           1.0           0.0   \n",
      "6205745           1.0           1.0           1.0           1.0   \n",
      "6205746           1.0           1.0           1.0           1.0   \n",
      "\n",
      "         media_movel_4_semanas  desvio_padrao_4_semanas  semana_do_ano  mes  \\\n",
      "0                          0.0                  0.00000              6    2   \n",
      "1                          0.0                  0.00000              7    2   \n",
      "2                          0.0                  0.00000             21    5   \n",
      "3                          0.0                  0.00000             25    6   \n",
      "4                          1.5                  0.57735             28    7   \n",
      "...                        ...                      ...            ...  ...   \n",
      "6205742                    0.0                  0.00000             10    3   \n",
      "6205743                    0.0                  0.00000             12    3   \n",
      "6205744                    0.0                  0.00000             26    6   \n",
      "6205745                    1.0                  0.00000             28    7   \n",
      "6205746                    1.0                  0.00000             34    8   \n",
      "\n",
      "          ano  pdv_encoded  sku_encoded  \n",
      "0        2022            1            0  \n",
      "1        2022            1            0  \n",
      "2        2022            1            0  \n",
      "3        2022            1            0  \n",
      "4        2022            1            0  \n",
      "...       ...          ...          ...  \n",
      "6205742  2022        21488         4169  \n",
      "6205743  2022        21488         4169  \n",
      "6205744  2022        21488         4169  \n",
      "6205745  2022        21488         4169  \n",
      "6205746  2022        21488         4169  \n",
      "\n",
      "[6205747 rows x 11 columns] 0          1.0\n",
      "1          2.0\n",
      "2          1.0\n",
      "3          2.0\n",
      "4          2.0\n",
      "          ... \n",
      "6205742    1.0\n",
      "6205743    1.0\n",
      "6205744    1.0\n",
      "6205745    1.0\n",
      "6205746    1.0\n",
      "Name: vendas_semanais, Length: 6205747, dtype: float64\n",
      "[LightGBM] [Info] Auto-choosing row-wise multi-threading, the overhead of testing was 0.021240 seconds.\n",
      "You can set `force_row_wise=true` to remove the overhead.\n",
      "And if memory is not enough, you can set `force_col_wise=true`.\n",
      "[LightGBM] [Info] Total Bins 13411\n",
      "[LightGBM] [Info] Number of data points in the train set: 5594328, number of used features: 11\n",
      "[LightGBM] [Info] Start training from score 2.000000\n",
      "Training until validation scores don't improve for 100 rounds\n",
      "Did not meet early stopping. Best iteration is:\n",
      "[991]\tvalid_0's l1: 2.20686\tvalid_0's wmape: 0.424547\n"
     ]
    }
   ],
   "source": [
    "model = train(df)"
   ]
  },
  {
   "cell_type": "code",
   "execution_count": 7,
   "id": "745cf7d8",
   "metadata": {},
   "outputs": [],
   "source": [
    "from filter_most_relevant import filter_most_valuable_inputs\n",
    "combinations_to_use = filter_most_valuable_inputs(original_df, 300000)"
   ]
  },
  {
   "cell_type": "code",
   "execution_count": 8,
   "id": "640d6618",
   "metadata": {},
   "outputs": [
    {
     "data": {
      "text/html": [
       "<div><style>\n",
       ".dataframe > thead > tr,\n",
       ".dataframe > tbody > tr {\n",
       "  text-align: right;\n",
       "  white-space: pre-wrap;\n",
       "}\n",
       "</style>\n",
       "<small>shape: (300_000, 3)</small><table border=\"1\" class=\"dataframe\"><thead><tr><th>internal_store_id</th><th>internal_product_id</th><th>gross_value</th></tr><tr><td>str</td><td>str</td><td>f64</td></tr></thead><tbody><tr><td>&quot;4307001887067073751&quot;</td><td>&quot;8317287899207839970&quot;</td><td>59754.959717</td></tr><tr><td>&quot;5077327874228029971&quot;</td><td>&quot;4439123428195264029&quot;</td><td>44064.620712</td></tr><tr><td>&quot;5077327874228029971&quot;</td><td>&quot;7029448080469668619&quot;</td><td>38239.199951</td></tr><tr><td>&quot;5077327874228029971&quot;</td><td>&quot;1023598837563683985&quot;</td><td>31170.850006</td></tr><tr><td>&quot;4307001887067073751&quot;</td><td>&quot;401938770626448498&quot;</td><td>30410.40094</td></tr><tr><td>&hellip;</td><td>&hellip;</td><td>&hellip;</td></tr><tr><td>&quot;6604594728328935671&quot;</td><td>&quot;2120799115839400862&quot;</td><td>67.049999</td></tr><tr><td>&quot;4521973704454050208&quot;</td><td>&quot;1174558658383487316&quot;</td><td>67.049999</td></tr><tr><td>&quot;7270939239281710066&quot;</td><td>&quot;2777480352243393897&quot;</td><td>67.049999</td></tr><tr><td>&quot;4521973704454050208&quot;</td><td>&quot;2777480352243393897&quot;</td><td>67.049999</td></tr><tr><td>&quot;3257056792242661445&quot;</td><td>&quot;2777480352243393897&quot;</td><td>67.049999</td></tr></tbody></table></div>"
      ],
      "text/plain": [
       "shape: (300_000, 3)\n",
       "┌─────────────────────┬─────────────────────┬──────────────┐\n",
       "│ internal_store_id   ┆ internal_product_id ┆ gross_value  │\n",
       "│ ---                 ┆ ---                 ┆ ---          │\n",
       "│ str                 ┆ str                 ┆ f64          │\n",
       "╞═════════════════════╪═════════════════════╪══════════════╡\n",
       "│ 4307001887067073751 ┆ 8317287899207839970 ┆ 59754.959717 │\n",
       "│ 5077327874228029971 ┆ 4439123428195264029 ┆ 44064.620712 │\n",
       "│ 5077327874228029971 ┆ 7029448080469668619 ┆ 38239.199951 │\n",
       "│ 5077327874228029971 ┆ 1023598837563683985 ┆ 31170.850006 │\n",
       "│ 4307001887067073751 ┆ 401938770626448498  ┆ 30410.40094  │\n",
       "│ …                   ┆ …                   ┆ …            │\n",
       "│ 6604594728328935671 ┆ 2120799115839400862 ┆ 67.049999    │\n",
       "│ 4521973704454050208 ┆ 1174558658383487316 ┆ 67.049999    │\n",
       "│ 7270939239281710066 ┆ 2777480352243393897 ┆ 67.049999    │\n",
       "│ 4521973704454050208 ┆ 2777480352243393897 ┆ 67.049999    │\n",
       "│ 3257056792242661445 ┆ 2777480352243393897 ┆ 67.049999    │\n",
       "└─────────────────────┴─────────────────────┴──────────────┘"
      ]
     },
     "execution_count": 8,
     "metadata": {},
     "output_type": "execute_result"
    }
   ],
   "source": [
    "combinations_to_use"
   ]
  },
  {
   "cell_type": "code",
   "execution_count": 9,
   "id": "8b8e6cc2",
   "metadata": {},
   "outputs": [],
   "source": [
    "filtered_df = df.join(combinations_to_use, left_on=['pdv', 'sku'], right_on=['internal_store_id', 'internal_product_id'], how='semi')"
   ]
  },
  {
   "cell_type": "code",
   "execution_count": 10,
   "id": "da547c45",
   "metadata": {},
   "outputs": [
    {
     "name": "stderr",
     "output_type": "stream",
     "text": [
      "/home/guilherme/code/python/OsSilkers/src/predict.py:74: FutureWarning: The behavior of DataFrame concatenation with empty or all-NA entries is deprecated. In a future version, this will no longer exclude empty or all-NA columns when determining the result dtypes. To retain the old behavior, exclude the relevant entries before the concat operation.\n",
      "  concat_df = pd.concat([four_weeks_df, new_original_df])\n"
     ]
    },
    {
     "name": "stdout",
     "output_type": "stream",
     "text": [
      "Initializing predictions for 2023-01-01 00:00:00\n"
     ]
    },
    {
     "name": "stderr",
     "output_type": "stream",
     "text": [
      "/home/guilherme/code/python/OsSilkers/src/predict.py:140: UserWarning: Boolean Series key will be reindexed to match DataFrame index.\n",
      "  predicted_values_df = concat_df.rename({\n"
     ]
    },
    {
     "name": "stdout",
     "output_type": "stream",
     "text": [
      "End of predictions for 2023-01-01 00:00:00\n"
     ]
    },
    {
     "name": "stderr",
     "output_type": "stream",
     "text": [
      "/home/guilherme/code/python/OsSilkers/src/predict.py:76: FutureWarning: The behavior of DataFrame concatenation with empty or all-NA entries is deprecated. In a future version, this will no longer exclude empty or all-NA columns when determining the result dtypes. To retain the old behavior, exclude the relevant entries before the concat operation.\n",
      "  concat_df = pd.concat([concat_df, new_original_df])\n"
     ]
    },
    {
     "name": "stdout",
     "output_type": "stream",
     "text": [
      "Initializing predictions for 2023-01-08 00:00:00\n"
     ]
    },
    {
     "name": "stderr",
     "output_type": "stream",
     "text": [
      "/home/guilherme/code/python/OsSilkers/src/predict.py:140: UserWarning: Boolean Series key will be reindexed to match DataFrame index.\n",
      "  predicted_values_df = concat_df.rename({\n"
     ]
    },
    {
     "name": "stdout",
     "output_type": "stream",
     "text": [
      "End of predictions for 2023-01-08 00:00:00\n"
     ]
    },
    {
     "name": "stderr",
     "output_type": "stream",
     "text": [
      "/home/guilherme/code/python/OsSilkers/src/predict.py:76: FutureWarning: The behavior of DataFrame concatenation with empty or all-NA entries is deprecated. In a future version, this will no longer exclude empty or all-NA columns when determining the result dtypes. To retain the old behavior, exclude the relevant entries before the concat operation.\n",
      "  concat_df = pd.concat([concat_df, new_original_df])\n"
     ]
    },
    {
     "name": "stdout",
     "output_type": "stream",
     "text": [
      "Initializing predictions for 2023-01-15 00:00:00\n"
     ]
    },
    {
     "name": "stderr",
     "output_type": "stream",
     "text": [
      "/home/guilherme/code/python/OsSilkers/src/predict.py:140: UserWarning: Boolean Series key will be reindexed to match DataFrame index.\n",
      "  predicted_values_df = concat_df.rename({\n"
     ]
    },
    {
     "name": "stdout",
     "output_type": "stream",
     "text": [
      "End of predictions for 2023-01-15 00:00:00\n"
     ]
    },
    {
     "name": "stderr",
     "output_type": "stream",
     "text": [
      "/home/guilherme/code/python/OsSilkers/src/predict.py:76: FutureWarning: The behavior of DataFrame concatenation with empty or all-NA entries is deprecated. In a future version, this will no longer exclude empty or all-NA columns when determining the result dtypes. To retain the old behavior, exclude the relevant entries before the concat operation.\n",
      "  concat_df = pd.concat([concat_df, new_original_df])\n"
     ]
    },
    {
     "name": "stdout",
     "output_type": "stream",
     "text": [
      "Initializing predictions for 2023-01-22 00:00:00\n"
     ]
    },
    {
     "name": "stderr",
     "output_type": "stream",
     "text": [
      "/home/guilherme/code/python/OsSilkers/src/predict.py:140: UserWarning: Boolean Series key will be reindexed to match DataFrame index.\n",
      "  predicted_values_df = concat_df.rename({\n"
     ]
    },
    {
     "name": "stdout",
     "output_type": "stream",
     "text": [
      "End of predictions for 2023-01-22 00:00:00\n"
     ]
    },
    {
     "name": "stderr",
     "output_type": "stream",
     "text": [
      "/home/guilherme/code/python/OsSilkers/src/predict.py:76: FutureWarning: The behavior of DataFrame concatenation with empty or all-NA entries is deprecated. In a future version, this will no longer exclude empty or all-NA columns when determining the result dtypes. To retain the old behavior, exclude the relevant entries before the concat operation.\n",
      "  concat_df = pd.concat([concat_df, new_original_df])\n"
     ]
    },
    {
     "name": "stdout",
     "output_type": "stream",
     "text": [
      "Initializing predictions for 2023-01-29 00:00:00\n",
      "End of predictions for 2023-01-29 00:00:00\n"
     ]
    },
    {
     "name": "stderr",
     "output_type": "stream",
     "text": [
      "/home/guilherme/code/python/OsSilkers/src/predict.py:140: UserWarning: Boolean Series key will be reindexed to match DataFrame index.\n",
      "  predicted_values_df = concat_df.rename({\n"
     ]
    }
   ],
   "source": [
    "predictions = predict(1, 1, 2023, model, filtered_df, '.')"
   ]
  },
  {
   "cell_type": "code",
   "execution_count": 25,
   "id": "ae7a739d",
   "metadata": {},
   "outputs": [],
   "source": [
    "predictions = predictions.astype('int')"
   ]
  },
  {
   "cell_type": "code",
   "execution_count": 26,
   "id": "e08f4d5d",
   "metadata": {},
   "outputs": [],
   "source": [
    "predictions_positive = predictions.drop(predictions[predictions['quantidade'] < 0].index)"
   ]
  },
  {
   "cell_type": "code",
   "execution_count": 27,
   "id": "e093c914",
   "metadata": {},
   "outputs": [
    {
     "data": {
      "application/vnd.microsoft.datawrangler.viewer.v0+json": {
       "columns": [
        {
         "name": "index",
         "rawType": "int64",
         "type": "integer"
        },
        {
         "name": "semana",
         "rawType": "int64",
         "type": "integer"
        },
        {
         "name": "pdv",
         "rawType": "int64",
         "type": "integer"
        },
        {
         "name": "produto",
         "rawType": "int64",
         "type": "integer"
        },
        {
         "name": "quantidade",
         "rawType": "int64",
         "type": "integer"
        }
       ],
       "ref": "7218e6df-2293-4128-b71c-0742e33dafdd",
       "rows": [
        [
         "75235",
         "1",
         "1915577311444334326",
         "8988637221428669939",
         "113"
        ],
        [
         "459337",
         "1",
         "6825966060938407713",
         "7520814577634754406",
         "113"
        ],
        [
         "564791",
         "1",
         "806485401242243256",
         "347520348779130794",
         "112"
        ],
        [
         "581342",
         "1",
         "826295652279312225",
         "4324163610483670143",
         "111"
        ],
        [
         "572255",
         "1",
         "8147878783243294465",
         "5136943744002676740",
         "110"
        ],
        [
         "255411",
         "1",
         "4170530923577067951",
         "4364537037583110812",
         "106"
        ],
        [
         "211554",
         "1",
         "3609173843105135562",
         "9036639434778896273",
         "104"
        ],
        [
         "244105",
         "1",
         "4034118479906551571",
         "1744223937976606089",
         "97"
        ],
        [
         "314447",
         "1",
         "4919303698115372961",
         "921948861470602071",
         "96"
        ],
        [
         "393278",
         "1",
         "5958712997075800966",
         "8864925188279236638",
         "94"
        ],
        [
         "668077",
         "1",
         "981758785032156505",
         "3435249648591979862",
         "93"
        ],
        [
         "95017",
         "1",
         "2167689510908524029",
         "2695012452070590524",
         "93"
        ],
        [
         "33778",
         "1",
         "1377106841877845798",
         "1271951761907094129",
         "93"
        ],
        [
         "194905",
         "1",
         "3391394370359484942",
         "3828481002710553478",
         "93"
        ],
        [
         "418629",
         "1",
         "6283526198849611811",
         "5645002264939911240",
         "93"
        ],
        [
         "436925",
         "1",
         "6533382908843835688",
         "4353552881410365573",
         "93"
        ],
        [
         "93867",
         "1",
         "2158711847228543468",
         "7162840612005571065",
         "93"
        ],
        [
         "220764",
         "1",
         "3732095675127176958",
         "4412079497580730737",
         "93"
        ],
        [
         "169798",
         "1",
         "3068744056662466131",
         "7162840612005571065",
         "92"
        ],
        [
         "282417",
         "1",
         "4549256129972885670",
         "6189453893821323891",
         "92"
        ],
        [
         "189540",
         "1",
         "3334696954558856285",
         "7694968221200717530",
         "92"
        ],
        [
         "95020",
         "1",
         "2167689510908524029",
         "2833671315544636673",
         "92"
        ],
        [
         "124380",
         "1",
         "2510617452472083145",
         "700484830392455456",
         "92"
        ],
        [
         "244094",
         "1",
         "4034007741949090727",
         "9149212002603716850",
         "92"
        ],
        [
         "86796",
         "1",
         "205831953220086636",
         "5992932469594590189",
         "92"
        ],
        [
         "581347",
         "1",
         "826295652279312225",
         "4438472183730600990",
         "92"
        ],
        [
         "102060",
         "1",
         "2253388937638480168",
         "1564315626210978148",
         "91"
        ],
        [
         "548856",
         "1",
         "7882604583997269064",
         "7871778702535050683",
         "91"
        ],
        [
         "410664",
         "1",
         "618208555752846683",
         "8211643118619585816",
         "90"
        ],
        [
         "599112",
         "1",
         "8478210574185565425",
         "5092742291356434674",
         "90"
        ],
        [
         "33767",
         "1",
         "1376996004359670394",
         "7370724865268543987",
         "87"
        ],
        [
         "89385",
         "1",
         "2085687325869583352",
         "2014744907596959599",
         "87"
        ],
        [
         "581340",
         "1",
         "826295652279312225",
         "4247468212758353506",
         "86"
        ],
        [
         "87101",
         "1",
         "2059412772664978902",
         "8174625658473329985",
         "86"
        ],
        [
         "38891",
         "1",
         "1448192172726739945",
         "101132503115441787",
         "84"
        ],
        [
         "251368",
         "1",
         "4112816142669668237",
         "7852170368684115755",
         "84"
        ],
        [
         "78011",
         "1",
         "1952258432182106956",
         "4303800370307860749",
         "84"
        ],
        [
         "564803",
         "1",
         "806485401242243256",
         "5224386078893914825",
         "83"
        ],
        [
         "176222",
         "1",
         "3157711822955020821",
         "2258747115919456585",
         "83"
        ],
        [
         "33764",
         "1",
         "1376996004359670394",
         "7023744788306377758",
         "82"
        ],
        [
         "253590",
         "1",
         "4152205760110680697",
         "802532509492578586",
         "82"
        ],
        [
         "663945",
         "1",
         "931238329431890063",
         "2836569121407832322",
         "82"
        ],
        [
         "242110",
         "1",
         "4022262198573460506",
         "8899583048247637290",
         "82"
        ],
        [
         "85083",
         "1",
         "2039259415232404",
         "637448570435263100",
         "81"
        ],
        [
         "179338",
         "1",
         "3195891211584087373",
         "8382158958992673929",
         "81"
        ],
        [
         "380735",
         "1",
         "5783216356024716162",
         "3516587220187345473",
         "81"
        ],
        [
         "480017",
         "1",
         "7121607800475061595",
         "500478784353013717",
         "81"
        ],
        [
         "51235",
         "1",
         "1589257404274611072",
         "8822108409366269762",
         "81"
        ],
        [
         "242574",
         "1",
         "4025043813704702035",
         "4281582263038513061",
         "81"
        ],
        [
         "562232",
         "1",
         "8032758812559436452",
         "6493845085083047580",
         "81"
        ]
       ],
       "shape": {
        "columns": 4,
        "rows": 1496519
       }
      },
      "text/html": [
       "<div>\n",
       "<style scoped>\n",
       "    .dataframe tbody tr th:only-of-type {\n",
       "        vertical-align: middle;\n",
       "    }\n",
       "\n",
       "    .dataframe tbody tr th {\n",
       "        vertical-align: top;\n",
       "    }\n",
       "\n",
       "    .dataframe thead th {\n",
       "        text-align: right;\n",
       "    }\n",
       "</style>\n",
       "<table border=\"1\" class=\"dataframe\">\n",
       "  <thead>\n",
       "    <tr style=\"text-align: right;\">\n",
       "      <th></th>\n",
       "      <th>semana</th>\n",
       "      <th>pdv</th>\n",
       "      <th>produto</th>\n",
       "      <th>quantidade</th>\n",
       "    </tr>\n",
       "  </thead>\n",
       "  <tbody>\n",
       "    <tr>\n",
       "      <th>75235</th>\n",
       "      <td>1</td>\n",
       "      <td>1915577311444334326</td>\n",
       "      <td>8988637221428669939</td>\n",
       "      <td>113</td>\n",
       "    </tr>\n",
       "    <tr>\n",
       "      <th>459337</th>\n",
       "      <td>1</td>\n",
       "      <td>6825966060938407713</td>\n",
       "      <td>7520814577634754406</td>\n",
       "      <td>113</td>\n",
       "    </tr>\n",
       "    <tr>\n",
       "      <th>564791</th>\n",
       "      <td>1</td>\n",
       "      <td>806485401242243256</td>\n",
       "      <td>347520348779130794</td>\n",
       "      <td>112</td>\n",
       "    </tr>\n",
       "    <tr>\n",
       "      <th>581342</th>\n",
       "      <td>1</td>\n",
       "      <td>826295652279312225</td>\n",
       "      <td>4324163610483670143</td>\n",
       "      <td>111</td>\n",
       "    </tr>\n",
       "    <tr>\n",
       "      <th>572255</th>\n",
       "      <td>1</td>\n",
       "      <td>8147878783243294465</td>\n",
       "      <td>5136943744002676740</td>\n",
       "      <td>110</td>\n",
       "    </tr>\n",
       "    <tr>\n",
       "      <th>...</th>\n",
       "      <td>...</td>\n",
       "      <td>...</td>\n",
       "      <td>...</td>\n",
       "      <td>...</td>\n",
       "    </tr>\n",
       "    <tr>\n",
       "      <th>633158</th>\n",
       "      <td>1</td>\n",
       "      <td>889771664964471946</td>\n",
       "      <td>5418855670645487653</td>\n",
       "      <td>0</td>\n",
       "    </tr>\n",
       "    <tr>\n",
       "      <th>480418</th>\n",
       "      <td>1</td>\n",
       "      <td>7126858116544870884</td>\n",
       "      <td>7852170368684115755</td>\n",
       "      <td>0</td>\n",
       "    </tr>\n",
       "    <tr>\n",
       "      <th>543404</th>\n",
       "      <td>1</td>\n",
       "      <td>7804336417165452100</td>\n",
       "      <td>3262679882836704514</td>\n",
       "      <td>0</td>\n",
       "    </tr>\n",
       "    <tr>\n",
       "      <th>633299</th>\n",
       "      <td>1</td>\n",
       "      <td>8900976794488847926</td>\n",
       "      <td>7170592116007465797</td>\n",
       "      <td>0</td>\n",
       "    </tr>\n",
       "    <tr>\n",
       "      <th>632856</th>\n",
       "      <td>1</td>\n",
       "      <td>8891618092535088479</td>\n",
       "      <td>9036639434778896273</td>\n",
       "      <td>0</td>\n",
       "    </tr>\n",
       "  </tbody>\n",
       "</table>\n",
       "<p>1496519 rows × 4 columns</p>\n",
       "</div>"
      ],
      "text/plain": [
       "        semana                  pdv              produto  quantidade\n",
       "75235        1  1915577311444334326  8988637221428669939         113\n",
       "459337       1  6825966060938407713  7520814577634754406         113\n",
       "564791       1   806485401242243256   347520348779130794         112\n",
       "581342       1   826295652279312225  4324163610483670143         111\n",
       "572255       1  8147878783243294465  5136943744002676740         110\n",
       "...        ...                  ...                  ...         ...\n",
       "633158       1   889771664964471946  5418855670645487653           0\n",
       "480418       1  7126858116544870884  7852170368684115755           0\n",
       "543404       1  7804336417165452100  3262679882836704514           0\n",
       "633299       1  8900976794488847926  7170592116007465797           0\n",
       "632856       1  8891618092535088479  9036639434778896273           0\n",
       "\n",
       "[1496519 rows x 4 columns]"
      ]
     },
     "execution_count": 27,
     "metadata": {},
     "output_type": "execute_result"
    }
   ],
   "source": [
    "predictions_positive.sort_values(['quantidade'], ascending=False)"
   ]
  },
  {
   "cell_type": "code",
   "execution_count": 24,
   "id": "a9f98fb3",
   "metadata": {},
   "outputs": [
    {
     "data": {
      "image/png": "[encoded data removed]",
      "text/plain": [
       "<Figure size 640x480 with 2 Axes>"
      ]
     },
     "metadata": {},
     "output_type": "display_data"
    }
   ],
   "source": [
    "import matplotlib.pyplot as plt\n",
    "\n",
    "\n",
    "dataset_qts = df.to_pandas()['vendas_semanais'].to_numpy()\n",
    "predicted_qts = predictions['quantidade'].to_numpy()\n",
    "\n",
    "axes = plt.subplot(1, 2, 1)\n",
    "axes.hist(dataset_qts, range=[0, 10])\n",
    "limit = [0, 5e6]\n",
    "#axes.set_xlim(limit)\n",
    "axes2 = plt.subplot(1, 2, 2)\n",
    "#axes2.set_xlim()\n",
    "axes2.hist(predicted_qts, range=[0, 10])\n",
    "plt.show()"
   ]
  },
  {
   "cell_type": "code",
   "execution_count": 28,
   "id": "ca649edd",
   "metadata": {},
   "outputs": [
    {
     "data": {
      "application/vnd.microsoft.datawrangler.viewer.v0+json": {
       "columns": [
        {
         "name": "index",
         "rawType": "int64",
         "type": "integer"
        },
        {
         "name": "semana",
         "rawType": "int64",
         "type": "integer"
        },
        {
         "name": "pdv",
         "rawType": "int64",
         "type": "integer"
        },
        {
         "name": "produto",
         "rawType": "int64",
         "type": "integer"
        },
        {
         "name": "quantidade",
         "rawType": "int64",
         "type": "integer"
        }
       ],
       "ref": "69438034-ea83-425a-95cd-b053e2bd0fec",
       "rows": [
        [
         "667018",
         "1",
         "969121616954361713",
         "1271951761907094129",
         "9"
        ],
        [
         "635373",
         "1",
         "8924888785538844515",
         "347520348779130794",
         "1"
        ],
        [
         "634828",
         "1",
         "8918984701561076",
         "3262679882836704514",
         "7"
        ],
        [
         "635498",
         "1",
         "8926962086626844375",
         "3965996009832298069",
         "9"
        ],
        [
         "479387",
         "1",
         "7113140611742290685",
         "2584866940179463290",
         "5"
        ],
        [
         "667105",
         "1",
         "969121616954361713",
         "57023002470794876",
         "6"
        ],
        [
         "531176",
         "1",
         "7676378697761753155",
         "4303800370307860749",
         "1"
        ],
        [
         "542958",
         "1",
         "7803689727198037569",
         "2626979336183376393",
         "1"
        ],
        [
         "479726",
         "1",
         "7119392731288601419",
         "6677543772441358928",
         "4"
        ],
        [
         "523602",
         "1",
         "7595214875178969062",
         "155658824621799697",
         "1"
        ],
        [
         "667102",
         "1",
         "969121616954361713",
         "5418855670645487653",
         "7"
        ],
        [
         "635500",
         "1",
         "892737465188368421",
         "2303727811338492139",
         "1"
        ],
        [
         "634844",
         "1",
         "8918984701561076",
         "5760259508406906910",
         "2"
        ],
        [
         "634826",
         "1",
         "8918984701561076",
         "2631382375054982595",
         "1"
        ],
        [
         "479729",
         "1",
         "7119392731288601419",
         "6733758480983417967",
         "1"
        ],
        [
         "479386",
         "1",
         "7113140611742290685",
         "2332258305086273987",
         "2"
        ],
        [
         "479468",
         "1",
         "7114162671200028823",
         "4098058333001424920",
         "2"
        ],
        [
         "634843",
         "1",
         "8918984701561076",
         "5418855670645487653",
         "11"
        ],
        [
         "542462",
         "1",
         "7798371321515892727",
         "819449477271258363",
         "1"
        ],
        [
         "634845",
         "1",
         "8918984701561076",
         "576514643033029430",
         "2"
        ],
        [
         "479205",
         "1",
         "7105331274275400793",
         "8447998362672915343",
         "7"
        ],
        [
         "479393",
         "1",
         "7113140611742290685",
         "3407816598812292920",
         "7"
        ],
        [
         "542706",
         "1",
         "780053122971556684",
         "3262679882836704514",
         "1"
        ],
        [
         "523687",
         "1",
         "7600688982069076698",
         "18540138743288609",
         "7"
        ],
        [
         "542645",
         "1",
         "7800014922884865069",
         "4794695800414206309",
         "2"
        ],
        [
         "634842",
         "1",
         "8918984701561076",
         "4644784604518546357",
         "3"
        ],
        [
         "542648",
         "1",
         "7800014922884865069",
         "536583700725710240",
         "1"
        ],
        [
         "479720",
         "1",
         "7119392731288601419",
         "5801641240483683768",
         "1"
        ],
        [
         "531175",
         "1",
         "7676378697761753155",
         "4131100880614395813",
         "1"
        ],
        [
         "634837",
         "1",
         "8918984701561076",
         "4046308726663975437",
         "5"
        ],
        [
         "479721",
         "1",
         "7119392731288601419",
         "6164152947277643858",
         "1"
        ],
        [
         "667241",
         "1",
         "969831557200123615",
         "5645002264939911240",
         "1"
        ],
        [
         "635803",
         "1",
         "8930678118909070741",
         "7118126768094669047",
         "1"
        ],
        [
         "479202",
         "1",
         "7105331274275400793",
         "7712658751322313118",
         "1"
        ],
        [
         "634832",
         "1",
         "8918984701561076",
         "3435249648591979862",
         "1"
        ],
        [
         "523501",
         "1",
         "7592101033924053250",
         "1617864023275256842",
         "1"
        ],
        [
         "479722",
         "1",
         "7119392731288601419",
         "6205704124281125489",
         "6"
        ],
        [
         "635377",
         "1",
         "8924888785538844515",
         "4046308726663975437",
         "1"
        ],
        [
         "634833",
         "1",
         "8918984701561076",
         "3883382697746128443",
         "7"
        ],
        [
         "634834",
         "1",
         "8918984701561076",
         "4040509988492387426",
         "9"
        ],
        [
         "523624",
         "1",
         "7595214875178969062",
         "8140805446672726031",
         "16"
        ],
        [
         "479391",
         "1",
         "7113140611742290685",
         "3262679882836704514",
         "2"
        ],
        [
         "635379",
         "1",
         "8924888785538844515",
         "4250248584595456030",
         "1"
        ],
        [
         "464567",
         "1",
         "6894424114669616470",
         "8174625658473329985",
         "1"
        ],
        [
         "635376",
         "1",
         "8924888785538844515",
         "3840201750077926393",
         "1"
        ],
        [
         "479733",
         "1",
         "7119392731288601419",
         "7650117201287402550",
         "1"
        ],
        [
         "464531",
         "1",
         "6893060203230784871",
         "7908011248734036257",
         "1"
        ],
        [
         "634822",
         "1",
         "8918984701561076",
         "2258747115919456585",
         "2"
        ],
        [
         "542458",
         "1",
         "7798371321515892727",
         "8174625658473329985",
         "1"
        ],
        [
         "542705",
         "1",
         "780053122971556684",
         "1657665165780983454",
         "1"
        ]
       ],
       "shape": {
        "columns": 4,
        "rows": 300000
       }
      },
      "text/html": [
       "<div>\n",
       "<style scoped>\n",
       "    .dataframe tbody tr th:only-of-type {\n",
       "        vertical-align: middle;\n",
       "    }\n",
       "\n",
       "    .dataframe tbody tr th {\n",
       "        vertical-align: top;\n",
       "    }\n",
       "\n",
       "    .dataframe thead th {\n",
       "        text-align: right;\n",
       "    }\n",
       "</style>\n",
       "<table border=\"1\" class=\"dataframe\">\n",
       "  <thead>\n",
       "    <tr style=\"text-align: right;\">\n",
       "      <th></th>\n",
       "      <th>semana</th>\n",
       "      <th>pdv</th>\n",
       "      <th>produto</th>\n",
       "      <th>quantidade</th>\n",
       "    </tr>\n",
       "  </thead>\n",
       "  <tbody>\n",
       "    <tr>\n",
       "      <th>667018</th>\n",
       "      <td>1</td>\n",
       "      <td>969121616954361713</td>\n",
       "      <td>1271951761907094129</td>\n",
       "      <td>9</td>\n",
       "    </tr>\n",
       "    <tr>\n",
       "      <th>635373</th>\n",
       "      <td>1</td>\n",
       "      <td>8924888785538844515</td>\n",
       "      <td>347520348779130794</td>\n",
       "      <td>1</td>\n",
       "    </tr>\n",
       "    <tr>\n",
       "      <th>634828</th>\n",
       "      <td>1</td>\n",
       "      <td>8918984701561076</td>\n",
       "      <td>3262679882836704514</td>\n",
       "      <td>7</td>\n",
       "    </tr>\n",
       "    <tr>\n",
       "      <th>635498</th>\n",
       "      <td>1</td>\n",
       "      <td>8926962086626844375</td>\n",
       "      <td>3965996009832298069</td>\n",
       "      <td>9</td>\n",
       "    </tr>\n",
       "    <tr>\n",
       "      <th>479387</th>\n",
       "      <td>1</td>\n",
       "      <td>7113140611742290685</td>\n",
       "      <td>2584866940179463290</td>\n",
       "      <td>5</td>\n",
       "    </tr>\n",
       "    <tr>\n",
       "      <th>...</th>\n",
       "      <td>...</td>\n",
       "      <td>...</td>\n",
       "      <td>...</td>\n",
       "      <td>...</td>\n",
       "    </tr>\n",
       "    <tr>\n",
       "      <th>672669</th>\n",
       "      <td>2</td>\n",
       "      <td>6893060203230784871</td>\n",
       "      <td>5600821899766970056</td>\n",
       "      <td>5</td>\n",
       "    </tr>\n",
       "    <tr>\n",
       "      <th>394363</th>\n",
       "      <td>3</td>\n",
       "      <td>3787872365761289322</td>\n",
       "      <td>3840201750077926393</td>\n",
       "      <td>2</td>\n",
       "    </tr>\n",
       "    <tr>\n",
       "      <th>14850</th>\n",
       "      <td>3</td>\n",
       "      <td>1082484277848519785</td>\n",
       "      <td>6127456226485495086</td>\n",
       "      <td>2</td>\n",
       "    </tr>\n",
       "    <tr>\n",
       "      <th>46394</th>\n",
       "      <td>3</td>\n",
       "      <td>1295516380043070490</td>\n",
       "      <td>1271951761907094129</td>\n",
       "      <td>3</td>\n",
       "    </tr>\n",
       "    <tr>\n",
       "      <th>217892</th>\n",
       "      <td>3</td>\n",
       "      <td>2510617452472083145</td>\n",
       "      <td>7298214647758764863</td>\n",
       "      <td>3</td>\n",
       "    </tr>\n",
       "  </tbody>\n",
       "</table>\n",
       "<p>300000 rows × 4 columns</p>\n",
       "</div>"
      ],
      "text/plain": [
       "        semana                  pdv              produto  quantidade\n",
       "667018       1   969121616954361713  1271951761907094129           9\n",
       "635373       1  8924888785538844515   347520348779130794           1\n",
       "634828       1     8918984701561076  3262679882836704514           7\n",
       "635498       1  8926962086626844375  3965996009832298069           9\n",
       "479387       1  7113140611742290685  2584866940179463290           5\n",
       "...        ...                  ...                  ...         ...\n",
       "672669       2  6893060203230784871  5600821899766970056           5\n",
       "394363       3  3787872365761289322  3840201750077926393           2\n",
       "14850        3  1082484277848519785  6127456226485495086           2\n",
       "46394        3  1295516380043070490  1271951761907094129           3\n",
       "217892       3  2510617452472083145  7298214647758764863           3\n",
       "\n",
       "[300000 rows x 4 columns]"
      ]
     },
     "execution_count": 28,
     "metadata": {},
     "output_type": "execute_result"
    }
   ],
   "source": [
    "predictions_positive.drop_duplicates(subset=['pdv', 'produto'])"
   ]
  },
  {
   "cell_type": "code",
   "execution_count": 30,
   "id": "57001ef8",
   "metadata": {},
   "outputs": [],
   "source": [
    "predictions_positive.to_parquet('../saved/OsSilkers_Final.parquet')"
   ]
  }
 ],
 "metadata": {
  "kernelspec": {
   "display_name": "modeling_venv",
   "language": "python",
   "name": "python3"
  },
  "language_info": {
   "codemirror_mode": {
    "name": "ipython",
    "version": 3
   },
   "file_extension": ".py",
   "mimetype": "text/x-python",
   "name": "python",
   "nbconvert_exporter": "python",
   "pygments_lexer": "ipython3",
   "version": "3.12.3"
  }
 },
 "nbformat": 4,
 "nbformat_minor": 5
}
